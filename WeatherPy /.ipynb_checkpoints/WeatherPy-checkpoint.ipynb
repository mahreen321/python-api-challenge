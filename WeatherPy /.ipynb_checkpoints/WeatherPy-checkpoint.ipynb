{
 "cells": [
  {
   "cell_type": "code",
   "execution_count": null,
   "id": "49f3e189",
   "metadata": {},
   "outputs": [],
   "source": [
    "\n",
    "get_ipython().system(' pip install citipy')\n",
    "import matplotlib.pyplot as plt\n",
    "from api_keys import weather_api_key\n",
    "import pandas as pd\n",
    "import numpy as np\n",
    "import requests\n",
    "import time\n",
    "from scipy.stats import linregress\n",
    "import seaborn as sns\n",
    "import urllib\n",
    "import json\n",
    "from citipy import citipy\n",
    "\n",
    "temp_units = \"imperial\"\n",
    "output_data_file = \"WeatherPy.csv\"\n",
    "\n",
    "lat_range = (-90, 90)\n",
    "lng_range = (-180, 180)\n",
    "\n",
    "\n"
   ]
  },
  {
   "cell_type": "code",
   "execution_count": null,
   "id": "c2490873",
   "metadata": {},
   "outputs": [],
   "source": [
    "### Generate the Cities List by Using the `citipy` Library"
   ]
  },
  {
   "cell_type": "code",
   "execution_count": null,
   "id": "13a795e6",
   "metadata": {},
   "outputs": [],
   "source": [
    "lat_lngs = []\n",
    "cities = []\n",
    "\n",
    "lat_range = (-90, 90)\n",
    "lng_range = (-180, 180)\n",
    "\n",
    "lats = np.random.uniform(lat_range[0], lat_range[1], size=1500)\n",
    "lngs = np.random.uniform(lng_range[0], lng_range[1], size=1500)\n",
    "lat_lngs = zip(lats, lngs)\n",
    "\n",
    "for lat_lng in lat_lngs:\n",
    "    city = citipy.nearest_city(lat_lng[0], lat_lng[1]).city_name\n",
    "    \n",
    "    if city not in cities:\n",
    "        cities.append(city)\n",
    "\n",
    "print(f\"Number of cities in the list: {len(cities)}\")"
   ]
  },
  {
   "cell_type": "code",
   "execution_count": null,
   "id": "2a054e1b",
   "metadata": {},
   "outputs": [],
   "source": [
    "## Requirement 1: Create Plots to Showcase the Relationship Between Weather Variables and Latitude\n",
    "\n",
    "### Use the OpenWeatherMap API to retrieve weather data from the cities list generated in the started code"
   ]
  },
  {
   "cell_type": "code",
   "execution_count": null,
   "id": "279a85c9",
   "metadata": {},
   "outputs": [],
   "source": [
    "\n",
    "url = \"http://api.openweathermap.org/data/2.5/weather?\"\n",
    "units = \"imperial\" \n",
    "appid = weather_api_key\n",
    "settings = {\"units\": \"imperial\", \"appid\": weather_api_key}\n",
    "url = f\"{url}appid={weather_api_key}&units={units}\"\n",
    "print (url)"
   ]
  },
  {
   "cell_type": "code",
   "execution_count": null,
   "id": "6a58e74a",
   "metadata": {},
   "outputs": [],
   "source": [
    "# List of city data\n",
    "city_data = []\n",
    "\n",
    "# Print to logger\n",
    "print(\"Beginning Data Retrieval     \")\n",
    "print(\"-----------------------------\")\n",
    "\n",
    "# Create counters\n",
    "record_count = 1\n",
    "set_count = 1\n",
    "\n",
    "# Loop through all the cities in our list\n",
    "for i, city in enumerate(cities):\n",
    "        \n",
    "    # Group cities in sets of 50 for logging purposes\n",
    "    if (i % 50 == 0 and i >= 50):\n",
    "        set_count += 1\n",
    "        record_count = 0\n",
    "\n",
    "    # Create endpoint URL with each city\n",
    "    city_url = url + \"&q=\" + urllib.request.pathname2url(city)\n",
    "\n",
    "    # Log the url, record, and set numbers\n",
    "    print(\"Processing Record %s of Set %s | %s\" % (record_count, set_count, city))\n",
    "    print(city_url)\n",
    "\n",
    "    # Add 1 to the record count\n",
    "    record_count += 1\n",
    "\n",
    "    # Run an API request for each of the cities\n",
    "    try:\n",
    "        # Parse the JSON and retrieve data\n",
    "        city_weather = requests.get(city_url).json()\n",
    "\n",
    "        # Parse out the max temp, humidity, and cloudiness\n",
    "        city_latitute = city_weather[\"coord\"][\"lat\"]\n",
    "        city_longitude = city_weather[\"coord\"][\"lon\"]\n",
    "        city_max_temperature = city_weather[\"main\"][\"temp_max\"]\n",
    "        city_humidity = city_weather[\"main\"][\"humidity\"]\n",
    "        city_clouds = city_weather[\"clouds\"][\"all\"]\n",
    "        city_wind = city_weather[\"wind\"][\"speed\"]\n",
    "        city_country = city_weather[\"sys\"][\"country\"]\n",
    "        city_date = city_weather[\"dt\"]\n",
    "\n",
    "        # Append the City information into city_data list\n",
    "        city_data.append({\"City\": city, \n",
    "                          \"Lat\": city_latitute, \n",
    "                          \"Lng\": city_longitude, \n",
    "                          \"Max Temp\": city_max_temperature,\n",
    "                          \"Humidity\": city_humidity,\n",
    "                          \"Cloudiness\": city_clouds,\n",
    "                          \"Wind Speed\": city_wind,\n",
    "                          \"Country\": city_country,\n",
    "                          \"Date\": city_date})\n",
    "\n",
    "    # If an error is experienced, skip the city\n",
    "    except:\n",
    "        print(\"City not found...\")\n",
    "        pass\n",
    "              \n",
    "# Indicate that Data Loading is complete \n",
    "print(\"-----------------------------\")\n",
    "print(\"Data Retrieval Complete      \")\n",
    "print(\"-----------------------------\")"
   ]
  },
  {
   "cell_type": "code",
   "execution_count": null,
   "id": "e89d26d3",
   "metadata": {},
   "outputs": [],
   "source": [
    "city_data_pd = pd.DataFrame(city_data)\n",
    "\n",
    "city_data_pd.count()"
   ]
  },
  {
   "cell_type": "code",
   "execution_count": null,
   "id": "d04076bf",
   "metadata": {},
   "outputs": [],
   "source": [
    "\n",
    "city_data_pd.head()\n"
   ]
  },
  {
   "cell_type": "code",
   "execution_count": null,
   "id": "5dbc99fb",
   "metadata": {},
   "outputs": [],
   "source": [
    "# Export the City_Data into a csv\n",
    "city_data_pd.to_csv(\"WeatherPy.csv\",encoding=\"utf-8\",index=False)\n",
    "\n",
    "\n",
    "# Read saved data\n",
    "city_data_pd = pd.read_csv(\"WeatherPy.csv\",index_col=0)\n",
    "\n",
    "# Display sample data\n",
    "city_data_pd.head()"
   ]
  },
  {
   "cell_type": "code",
   "execution_count": null,
   "id": "196a1438",
   "metadata": {},
   "outputs": [],
   "source": [
    "### Create the Scatter Plots Requested\n",
    "\n",
    "#### Latitude Vs. Temperature"
   ]
  },
  {
   "cell_type": "code",
   "execution_count": null,
   "id": "c7ecd9da",
   "metadata": {},
   "outputs": [],
   "source": [
    "plt.scatter(city_data_pd[\"Lat\"], \n",
    "            city_data_pd[\"Max Temp\"],\n",
    "            edgecolor=\"black\", linewidths=1, marker=\"o\", \n",
    "            alpha=0.8, label=\"Cities\")\n",
    "\n",
    "plt.title(\"City Latitude vs. Max Temperature (%s)\"% time.strftime(\"%x\"))\n",
    "plt.ylabel(\"Max Temperature (F)\")\n",
    "plt.xlabel(\"Latitude\")\n",
    "plt.grid(True)\n",
    "sns.set()\n",
    "plt.show()"
   ]
  },
  {
   "cell_type": "code",
   "execution_count": null,
   "id": "d6c7042d",
   "metadata": {},
   "outputs": [],
   "source": [
    "#### Latitude Vs. Humidity"
   ]
  },
  {
   "cell_type": "code",
   "execution_count": null,
   "id": "40880bc7",
   "metadata": {},
   "outputs": [],
   "source": [
    "plt.scatter(city_data_pd[\"Lat\"], \n",
    "            city_data_pd[\"Humidity\"],\n",
    "            edgecolor=\"black\", linewidths=1, marker=\"o\", \n",
    "            alpha=0.8, label=\"Cities\")\n",
    "\n",
    "plt.title(\"City Latitude vs. Humidity (%s)\" % time.strftime(\"%x\"))\n",
    "plt.ylabel(\"Humidity (%)\")\n",
    "plt.xlabel(\"Latitude\")\n",
    "plt.grid(True)\n",
    "sns.set()\n",
    "\n",
    "plt.show()"
   ]
  },
  {
   "cell_type": "code",
   "execution_count": null,
   "id": "af3e3adb",
   "metadata": {},
   "outputs": [],
   "source": [
    "#### Latitude Vs. Cloudiness"
   ]
  },
  {
   "cell_type": "code",
   "execution_count": null,
   "id": "fba6fabc",
   "metadata": {},
   "outputs": [],
   "source": [
    "plt.scatter(city_data_pd[\"Lat\"], \n",
    "            city_data_pd[\"Cloudiness\"],\n",
    "            edgecolor=\"black\", linewidths=1, marker=\"o\", \n",
    "            alpha=0.8, label=\"Cities\")\n",
    "\n",
    "plt.title(\"City Latitude vs. Cloudiness (%s)\" % time.strftime(\"%x\"))\n",
    "plt.ylabel(\"Cloudiness (%)\")\n",
    "plt.xlabel(\"Latitude\")\n",
    "plt.grid(True)\n",
    "sns.set()\n",
    "\n",
    "plt.show()"
   ]
  },
  {
   "cell_type": "code",
   "execution_count": null,
   "id": "d3adf1dd",
   "metadata": {},
   "outputs": [],
   "source": [
    "#### Latitude vs. Wind Speed Plot"
   ]
  },
  {
   "cell_type": "code",
   "execution_count": null,
   "id": "1054f1d9",
   "metadata": {},
   "outputs": [],
   "source": [
    "plt.scatter(city_data_pd[\"Lat\"], \n",
    "            city_data_pd[\"Wind Speed\"],\n",
    "            edgecolor=\"black\", linewidths=1, marker=\"o\", \n",
    "            alpha=0.8, label=\"Cities\")\n",
    "\n",
    "plt.title(\"City Latitude vs. Wind Speed (%s)\" % time.strftime(\"%x\"))\n",
    "plt.ylabel(\"Wind Speed (mph)\")\n",
    "plt.xlabel(\"Latitude\")\n",
    "plt.grid(True)\n",
    "sns.set()\n",
    "\n",
    "plt.show()"
   ]
  },
  {
   "cell_type": "code",
   "execution_count": null,
   "id": "6fa16231",
   "metadata": {},
   "outputs": [],
   "source": [
    "## Requirement 2: Compute Linear Regression for Each Relationship\n"
   ]
  },
  {
   "cell_type": "code",
   "execution_count": null,
   "id": "8d4a9135",
   "metadata": {},
   "outputs": [],
   "source": [
    "northern_hemi_df = city_data_pd[city_data_pd['Lat'] >= 0]\n",
    "northern_hemi_df.head()"
   ]
  },
  {
   "cell_type": "code",
   "execution_count": null,
   "id": "96c1181b",
   "metadata": {},
   "outputs": [],
   "source": [
    "southern_hemi_df = city_data_pd[city_data_pd['Lat'] < 0]\n",
    "southern_hemi_df.head()\n",
    "\n"
   ]
  },
  {
   "cell_type": "code",
   "execution_count": null,
   "id": "c7177f02",
   "metadata": {},
   "outputs": [],
   "source": [
    "###  Temperature vs. Latitude Linear Regression Plot"
   ]
  },
  {
   "cell_type": "code",
   "execution_count": null,
   "id": "d1b94bbf",
   "metadata": {},
   "outputs": [],
   "source": [
    "# Linear regression on Northern Hemisphere"
   ]
  },
  {
   "cell_type": "code",
   "execution_count": null,
   "id": "c04c7846",
   "metadata": {},
   "outputs": [],
   "source": [
    "plt.figure(figsize=(9,7))\n",
    "x_values = northern_hemi_df[\"Lat\"]\n",
    "y_values = northern_hemi_df['Max Temp']\n",
    "\n",
    "\n",
    "(slope, intercept, rvalue, pvalue, stderr) = linregress(x_values, y_values)\n",
    "\n",
    "regress_values = x_values * slope + intercept\n",
    "\n",
    "linear_eq = 'y = ' + str(round(slope,2)) + 'x + ' + str(round(intercept,2))\n",
    "\n",
    "plt.scatter(x_values,y_values, marker='o', color='royalblue', s=[80], edgecolors='black')\n",
    "plt.plot(x_values,regress_values, 'darkred', linewidth=2)\n",
    "\n",
    "\n",
    "plt.title('Northern Hemisphere - Max Temp vs. Latitude', fontsize=20)\n",
    "plt.ylabel('Max Temperature', fontsize=16, color='black')\n",
    "plt.xlabel('Latitude', fontsize=12, color='black')\n",
    "plt.annotate(linear_eq,(1, 1), fontsize=18, color='darkred')\n",
    "\n",
    "plt.ylim(min(city_data_pd['Max Temp'])-10, max(city_data_pd['Max Temp'])+10)\n",
    "\n",
    "plt.xlim(-3, max(city_data_pd['Lat'])+3)\n",
    "print(f'The r-squared is: {round(rvalue**2,2)}')\n",
    "\n",
    "\n",
    "plt.show()"
   ]
  },
  {
   "cell_type": "code",
   "execution_count": null,
   "id": "974cd150",
   "metadata": {},
   "outputs": [],
   "source": [
    "# Discussion: The r - squared is: 0.81.\n",
    "#There is a strong negative correlation between max temperature and latitude on the Northern Hemisphere. Farther north from equator the position of a city the lower is the max temperature."
   ]
  },
  {
   "cell_type": "code",
   "execution_count": null,
   "id": "f13c5e6a",
   "metadata": {},
   "outputs": [],
   "source": [
    "#Linear regression on Southern Hemisphere"
   ]
  },
  {
   "cell_type": "code",
   "execution_count": null,
   "id": "3f87a744",
   "metadata": {},
   "outputs": [],
   "source": [
    "plt.figure(figsize=(9,7))\n",
    "x_values = southern_hemi_df['Lat']\n",
    "y_values = southern_hemi_df['Max Temp']\n",
    "\n",
    "(slope, intercept, rvalue, pvalue, stderr) = linregress(x_values, y_values)\n",
    "\n",
    "regress_values = x_values * slope + intercept\n",
    "\n",
    "line_eq2 = 'y = ' + str(round(slope,2)) + 'x + ' + str(round(intercept,2))\n",
    "\n",
    "plt.scatter(x_values,y_values, marker='o', color='royalblue', s=[70], edgecolors='black')\n",
    "plt.plot(x_values,regress_values, 'darkred', linewidth=2)\n",
    "\n",
    "plt.title('Southern Hemisphere - Max Temp vs. Latitude', fontsize=20)\n",
    "plt.ylabel('Max Temperature', fontsize=16, color='black')\n",
    "plt.xlabel('Latitude', fontsize=16, color='black')\n",
    "plt.annotate(line_eq2,(-25,43),fontsize=18, color='darkred')\n",
    "\n",
    "\n",
    "plt.ylim(30, 100)\n",
    "\n",
    "plt.xlim(min(southern_hemi_df['Lat'])-3, +1)\n",
    "print(f'The r-squared is: {round(rvalue**2,2)}')\n",
    "\n",
    "plt.show()"
   ]
  },
  {
   "cell_type": "code",
   "execution_count": null,
   "id": "1d46a8ef",
   "metadata": {},
   "outputs": [],
   "source": [
    "# Discussion: There is a positive correlation between latitude and max temperature on the Southern Hemisphere. \n",
    "# The closer a city is to equator the higher is the max temperature. Variance of the maximum temp on the Southern Hemisphere is higher than on the Northern Hemisphere and there is maximum temperature variation for different cities positioned on same latitude."
   ]
  },
  {
   "cell_type": "code",
   "execution_count": null,
   "id": "1d6232fe",
   "metadata": {},
   "outputs": [],
   "source": [
    "#Northern Hemisphere - Humidity vs. Latitude Linear Regression Plot"
   ]
  },
  {
   "cell_type": "code",
   "execution_count": null,
   "id": "039cfbf9",
   "metadata": {},
   "outputs": [],
   "source": [
    "plt.figure(figsize=(9,7))\n",
    "x_values = northern_hemi_df['Lat']\n",
    "y_values = northern_hemi_df['Humidity']\n",
    "\n",
    "(slope, intercept, rvalue, pvalue, stderr) = linregress(x_values, y_values)\n",
    "\n",
    "regress_values = x_values * slope + intercept\n",
    "line_eq = 'y = ' + str(round(slope,2)) + 'x + ' + str(round(intercept,2))\n",
    "\n",
    "plt.scatter(x_values,y_values, marker='o', color='royalblue', s=[70], edgecolors='black')\n",
    "plt.plot(x_values,regress_values,'darkred', linewidth=2)\n",
    "\n",
    "plt.title('Northern Hemisphere - Humidity vs. Latitude', fontsize=20)\n",
    "plt.ylabel('Humidity', fontsize=16, color='black')\n",
    "plt.xlabel('Latitude', fontsize=16, color='black')\n",
    "plt.annotate(line_eq,(51,6),fontsize=18, color='darkred')\n",
    "\n",
    "plt.ylim(-6, 110)\n",
    "\n",
    "plt.xlim(-4, 82)\n",
    "print(f'The r-squared is: {round(rvalue**2,2)}')\n",
    "\n",
    "plt.show()"
   ]
  },
  {
   "cell_type": "code",
   "execution_count": null,
   "id": "22b2ebb8",
   "metadata": {},
   "outputs": [],
   "source": [
    "#Discussion: The r - squared is: 0.03.There is almost no correlation between humidity level and the city position moving north from the equator."
   ]
  },
  {
   "cell_type": "code",
   "execution_count": null,
   "id": "8da6ce76",
   "metadata": {},
   "outputs": [],
   "source": [
    "#Southern Hemisphere - Humidity vs. Latitude Linear Regression"
   ]
  },
  {
   "cell_type": "code",
   "execution_count": null,
   "id": "b369a66e",
   "metadata": {},
   "outputs": [],
   "source": [
    "plt.figure(figsize=(9,7))\n",
    "x_values = southern_hemi_df['Lat']\n",
    "y_values = southern_hemi_df['Humidity']\n",
    "\n",
    "(slope, intercept, rvalue, pvalue, stderr) = linregress(x_values, y_values)\n",
    "\n",
    "regress_values = x_values * slope + intercept\n",
    "\n",
    "line_eq = 'y = ' + str(round(slope,2)) + 'x + ' + str(round(intercept,2))\n",
    "\n",
    "plt.scatter(x_values,y_values, marker='o', color='royalblue', s=[70], edgecolors='black')\n",
    "plt.plot(x_values,regress_values,'darkred', linewidth=2)\n",
    "\n",
    "\n",
    "plt.title('Southern Hemisphere - Humidity vs. Latitude', fontsize=20)\n",
    "plt.ylabel('Humidity', fontsize=16, color='black')\n",
    "plt.xlabel('Latitude', fontsize=16, color='black')\n",
    "plt.annotate(line_eq,(-55,22), fontsize=18, color='darkred')\n",
    "\n",
    "\n",
    "plt.ylim(10, 110)\n",
    "\n",
    "plt.xlim(-57, 1)\n",
    "print(f'The r-squared is: {round(rvalue**2,2)}')\n",
    "plt.show()"
   ]
  },
  {
   "cell_type": "code",
   "execution_count": null,
   "id": "65d64ce4",
   "metadata": {},
   "outputs": [],
   "source": [
    "#Discussion: The r - squared is: 0.09.There is almost no correlating between humidity levels and the city position on Southern Hemisphere."
   ]
  },
  {
   "cell_type": "code",
   "execution_count": null,
   "id": "3636c574",
   "metadata": {},
   "outputs": [],
   "source": [
    "#Northern Hemisphere - Cloudiness vs. Latitude Linear Regression Plot"
   ]
  },
  {
   "cell_type": "code",
   "execution_count": null,
   "id": "5af0931d",
   "metadata": {},
   "outputs": [],
   "source": [
    "plt.figure(figsize=(9,7))\n",
    "x_values = northern_hemi_df['Lat']\n",
    "y_values = northern_hemi_df['Cloudiness']\n",
    "\n",
    "(slope, intercept, rvalue, pvalue, stderr) = linregress(x_values, y_values)\n",
    "\n",
    "\n",
    "regress_values = x_values * slope + intercept\n",
    "\n",
    "\n",
    "line_eq = 'y = ' + str(round(slope,2)) + 'x + ' + str(round(intercept,2))\n",
    "\n",
    "plt.scatter(x_values,y_values, marker='o', color='royalblue', s=[70], edgecolors='black')\n",
    "plt.plot(x_values,regress_values,'darkred', linewidth=2)\n",
    "\n",
    "\n",
    "plt.title('Northern Hemisphere - Cloudiness vs. Latitude', fontsize=20)\n",
    "plt.ylabel('Cloudiness', fontsize=16, color='black')\n",
    "plt.xlabel('Latitude', fontsize=16, color='black')\n",
    "plt.annotate(line_eq,(35,25), fontsize=18, color='darkred')\n",
    "\n",
    "plt.ylim(-8, 110)\n",
    "\n",
    "plt.xlim(-3, 82)\n",
    "\n",
    "print(f'The r-squared is: {round(rvalue**2,2)}')\n",
    "\n",
    "\n",
    "plt.show()"
   ]
  },
  {
   "cell_type": "code",
   "execution_count": null,
   "id": "347b38dd",
   "metadata": {},
   "outputs": [],
   "source": [
    "#Discussion:The r - squared is: 0.04.\n",
    "#There is no correlation between the cloudiness and a distance from equator for cities positions. \n",
    "# Cloudiness are widely spread all over latitudes along whole Northern Hemisphere."
   ]
  },
  {
   "cell_type": "code",
   "execution_count": null,
   "id": "f0b4dc5f",
   "metadata": {},
   "outputs": [],
   "source": [
    "# Southern Hemisphere - Cloudiness vs. Latitude Linear Regression"
   ]
  },
  {
   "cell_type": "code",
   "execution_count": null,
   "id": "3cd4d7e5",
   "metadata": {},
   "outputs": [],
   "source": [
    "plt.figure(figsize=(9,7))\n",
    "x_values = southern_hemi_df['Lat']\n",
    "y_values = southern_hemi_df['Cloudiness']\n",
    "\n",
    "(slope, intercept, rvalue, pvalue, stderr) = linregress(x_values, y_values)\n",
    "\n",
    "regress_values = x_values * slope + intercept\n",
    "\n",
    "line_eq = 'y = ' + str(round(slope,2)) + 'x + ' + str(round(intercept,2))\n",
    "\n",
    "plt.scatter(x_values,y_values, marker='o', color='royalblue', s=[70], edgecolors='black')\n",
    "plt.plot(x_values,regress_values,'darkred', linewidth=2)\n",
    "\n",
    "plt.title('Southern Hemisphere - Cloudiness vs. Latitude', fontsize=20)\n",
    "plt.ylabel('Cloudiness', fontsize=16, color='black')\n",
    "plt.xlabel('Latitude', fontsize=16, color='black')\n",
    "plt.annotate(line_eq,(-56,8), fontsize=18, color='darkred')\n",
    "\n",
    "\n",
    "plt.ylim(-7, 108)\n",
    "plt.xlim(-58, 1)\n",
    "\n",
    "\n",
    "print(f'The r-squared is: {round(rvalue**2,2)}')\n",
    "\n",
    "plt.show()"
   ]
  },
  {
   "cell_type": "code",
   "execution_count": null,
   "id": "dee51ed2",
   "metadata": {},
   "outputs": [],
   "source": [
    "# Discussion: The r-squared is: 0.02. There is no correlation between cloudiness level and a latitude on Southern Hemisphere. \n",
    "# The level of cloudiness is ranging from 0% to 100% independent of the latitude."
   ]
  },
  {
   "cell_type": "code",
   "execution_count": null,
   "id": "886f7a08",
   "metadata": {},
   "outputs": [],
   "source": [
    "# Northern Hemisphere - Wind Speed vs. Latitude Linear Regression Plot"
   ]
  },
  {
   "cell_type": "code",
   "execution_count": null,
   "id": "445e7c89",
   "metadata": {},
   "outputs": [],
   "source": [
    "plt.figure(figsize=(9,7))\n",
    "x_values = northern_hemi_df['Lat']\n",
    "y_values = northern_hemi_df['Wind Speed']\n",
    "\n",
    "(slope, intercept, rvalue, pvalue, stderr) = linregress(x_values, y_values)\n",
    "\n",
    "regress_values = x_values * slope + intercept\n",
    "\n",
    "line_eq = 'y = ' + str(round(slope,2)) + 'x + ' + str(round(intercept,2))\n",
    "\n",
    "plt.scatter(x_values,y_values, marker='o', color='royalblue', s=[70], edgecolors='black')\n",
    "plt.plot(x_values,regress_values,'darkred', linewidth=2)\n",
    "\n",
    "plt.title('Northern Hemisphere - Wind Speed vs. Latitude', fontsize=20)\n",
    "plt.ylabel('Wind Speed', fontsize=16, color='black')\n",
    "plt.xlabel('Latitude', fontsize=16, color='black')\n",
    "plt.annotate(line_eq,(2,42), fontsize=18, color='darkred')\n",
    "\n",
    "\n",
    "plt.ylim(-3, 48)\n",
    "plt.xlim(-3, 82)\n",
    "\n",
    "print(f'The r-squared is: {round(rvalue**2,2)}')\n",
    "\n",
    "plt.show()"
   ]
  },
  {
   "cell_type": "code",
   "execution_count": null,
   "id": "c6abfa42",
   "metadata": {},
   "outputs": [],
   "source": [
    "# Discussion: The r - squared is: 0.05\n",
    "# There is low correlation between the wind speed and the latitude on Northern Hemisphere.\n",
    "# Most of the cities have winds with variable speed levels along whole of the Northern Hemisphere."
   ]
  },
  {
   "cell_type": "code",
   "execution_count": null,
   "id": "6e03f515",
   "metadata": {},
   "outputs": [],
   "source": [
    "# Southern Hemisphere - Wind Speed vs. Latitude Linear Regression Plot"
   ]
  },
  {
   "cell_type": "code",
   "execution_count": null,
   "id": "410d214a",
   "metadata": {},
   "outputs": [],
   "source": [
    "plt.figure(figsize=(9,6))\n",
    "x_values = southern_hemi_df['Lat']\n",
    "y_values = southern_hemi_df['Wind Speed']\n",
    "\n",
    "(slope, intercept, rvalue, pvalue, stderr) = linregress(x_values, y_values)\n",
    "\n",
    "regress_values = x_values * slope + intercept\n",
    "line_eq = 'y = ' + str(round(slope,2)) + 'x + ' + str(round(intercept,2))\n",
    "\n",
    "\n",
    "plt.scatter(x_values,y_values, marker='o', color='royalblue', s=[70], edgecolors='black')\n",
    "plt.plot(x_values,regress_values,'darkred', linewidth=2)\n",
    "\n",
    "plt.title('Southern Hemisphere - Wind Speed vs. Latitude', fontsize=20)\n",
    "plt.ylabel('Wind Speed', fontsize=16, color='black')\n",
    "plt.xlabel('Latitude', fontsize=16, color='black')\n",
    "plt.annotate(line_eq,(-19.5,21), fontsize=18, color='darkred')\n",
    "\n",
    "\n",
    "plt.ylim(-1, 25)\n",
    "plt.xlim(-58, 1)\n",
    "\n",
    "print(f'The r-squared is: {round(rvalue**2,2)}')\n",
    "\n",
    "plt.show()"
   ]
  },
  {
   "cell_type": "code",
   "execution_count": null,
   "id": "2c999689",
   "metadata": {},
   "outputs": [],
   "source": [
    "#Discussion: The r - squared is: 0.06\n",
    "# There is low negative correlation between a wind speed and the latitude on Southern Hemisphere. \n"
   ]
  },
  {
   "cell_type": "code",
   "execution_count": null,
   "id": "aab01288",
   "metadata": {},
   "outputs": [],
   "source": []
  }
 ],
 "metadata": {
  "kernelspec": {
   "display_name": "Python 3 (ipykernel)",
   "language": "python",
   "name": "python3"
  },
  "language_info": {
   "codemirror_mode": {
    "name": "ipython",
    "version": 3
   },
   "file_extension": ".py",
   "mimetype": "text/x-python",
   "name": "python",
   "nbconvert_exporter": "python",
   "pygments_lexer": "ipython3",
   "version": "3.9.13"
  }
 },
 "nbformat": 4,
 "nbformat_minor": 5
}
